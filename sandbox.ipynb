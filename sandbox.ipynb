{
 "cells": [
  {
   "cell_type": "code",
   "execution_count": 7,
   "metadata": {},
   "outputs": [
    {
     "data": {
      "text/html": [
       "<div>\n",
       "<style scoped>\n",
       "    .dataframe tbody tr th:only-of-type {\n",
       "        vertical-align: middle;\n",
       "    }\n",
       "\n",
       "    .dataframe tbody tr th {\n",
       "        vertical-align: top;\n",
       "    }\n",
       "\n",
       "    .dataframe thead th {\n",
       "        text-align: right;\n",
       "    }\n",
       "</style>\n",
       "<table border=\"1\" class=\"dataframe\">\n",
       "  <thead>\n",
       "    <tr style=\"text-align: right;\">\n",
       "      <th></th>\n",
       "      <th>name</th>\n",
       "      <th>age</th>\n",
       "      <th>friend</th>\n",
       "    </tr>\n",
       "  </thead>\n",
       "  <tbody>\n",
       "    <tr>\n",
       "      <th>0</th>\n",
       "      <td>batman</td>\n",
       "      <td>33</td>\n",
       "      <td>0</td>\n",
       "    </tr>\n",
       "    <tr>\n",
       "      <th>1</th>\n",
       "      <td>superman</td>\n",
       "      <td>35</td>\n",
       "      <td>1</td>\n",
       "    </tr>\n",
       "    <tr>\n",
       "      <th>2</th>\n",
       "      <td>wonderwoman</td>\n",
       "      <td>422</td>\n",
       "      <td>15</td>\n",
       "    </tr>\n",
       "  </tbody>\n",
       "</table>\n",
       "</div>"
      ],
      "text/plain": [
       "          name  age  friend\n",
       "0       batman   33       0\n",
       "1     superman   35       1\n",
       "2  wonderwoman  422      15"
      ]
     },
     "execution_count": 7,
     "metadata": {},
     "output_type": "execute_result"
    }
   ],
   "source": [
    "import pandas as pd\n",
    "import matplotlib.pyplot as plt\n",
    "import matplotlib.lines as mlines\n",
    "\n",
    "data = {\"name\": [\"batman\", \"superman\", \"wonderwoman\"],\n",
    "       \"age\": [33, 35, 422],\n",
    "       \"friend\": [0, 1, 15]}\n",
    "temp = pd.DataFrame(data)\n",
    "temp.loc[:, 'name':'friend']"
   ]
  },
  {
   "cell_type": "code",
   "execution_count": 8,
   "metadata": {},
   "outputs": [
    {
     "data": {
      "text/plain": [
       "tuple"
      ]
     },
     "execution_count": 8,
     "metadata": {},
     "output_type": "execute_result"
    }
   ],
   "source": [
    "type((1, 1, 1))"
   ]
  },
  {
   "cell_type": "code",
   "execution_count": 9,
   "metadata": {},
   "outputs": [
    {
     "data": {
      "text/plain": [
       "['1', '1']"
      ]
     },
     "execution_count": 9,
     "metadata": {},
     "output_type": "execute_result"
    }
   ],
   "source": [
    "split = \"S1U1\"\n",
    "x = split.split(\"S\")[1].split(\"U\")\n",
    "x\n"
   ]
  },
  {
   "cell_type": "code",
   "execution_count": 10,
   "metadata": {},
   "outputs": [
    {
     "name": "stdout",
     "output_type": "stream",
     "text": [
      "./Desktop/study1_pair_1/data/S1U1boneData_0.csv\n",
      "Start Time: 1519390556227\n"
     ]
    },
    {
     "data": {
      "image/png": "[encoded data removed]",
      "text/plain": [
       "<Figure size 720x360 with 1 Axes>"
      ]
     },
     "metadata": {
      "needs_background": "light"
     },
     "output_type": "display_data"
    }
   ],
   "source": [
    "#df = pd.read_csv(\"./Desktop/study1_pair_1/S1U1boneData_0.csv\")\n",
    "\n",
    "file = \"./Desktop/study1_pair_1/data/S1U1boneData_0.csv\"\n",
    "print(file)\n",
    "with open(file, 'r') as f:\n",
    "    first_line = f.readline()\n",
    "startTime = (int)(first_line.split(\" \")[-1].replace(\"\\n\", \"\"))\n",
    "print(\"Start Time: %i\" %startTime)\n",
    "df = pd.read_csv(file, skiprows=1, sep=\";\")\n",
    "\n",
    "df.rename(columns={'PlayerSelect': 'IsPointer', 'UId': 'PId'}, inplace=True)\n",
    "df = df[df['Timestamp'].isna() == False]\n",
    "for c in df.columns[:2]:\n",
    "    df[c] = pd.to_numeric(df[c])\n",
    "    \n",
    "df[\"StartTimeUnix\"] = startTime\n",
    "df.columns = df.columns.str.replace(\"_\", \"\")\n",
    "df.rename(columns={'Timestamp': 'TimeUnix'}, inplace=True)\n",
    "df[\"Time\"] = pd.to_datetime(df.TimeUnix, unit='ms')\n",
    "\n",
    "df[\"File\"] = file\n",
    "\n",
    "file =\"./Desktop/study1_pair_1/data/S1_conditions.csv\"\n",
    "df = pd.read_csv(file, skiprows=3, sep=\";\")\n",
    "df[\"ObserverDistance\"] = -1\n",
    "\n",
    "\n",
    "for i, e in enumerate(sorted(df.PositonOfObserver.unique())):\n",
    "    df.loc[df.PositonOfObserver == e, \"ObserverDistance\"] = i\n",
    "    \n",
    "    \n",
    "plt.figure(figsize=(10,5))\n",
    "plt.title(\"test\")\n",
    "plt.scatter([3, 6], [3, 6], marker=\"+\", color=\"r\")\n",
    "plt.scatter([3.1, 5.9], [2.9, 6.3], marker=\"+\", color=\"b\")\n",
    "\n",
    "ax = plt.gca()\n",
    "l = mlines.Line2D([3, 3.1], [3, 2.9])\n",
    "ax.add_line(l)\n",
    "\n",
    "plt.show()"
   ]
  },
  {
   "cell_type": "code",
   "execution_count": null,
   "metadata": {},
   "outputs": [],
   "source": []
  }
 ],
 "metadata": {
  "kernelspec": {
   "display_name": "Python 3",
   "language": "python",
   "name": "python3"
  },
  "language_info": {
   "codemirror_mode": {
    "name": "ipython",
    "version": 3
   },
   "file_extension": ".py",
   "mimetype": "text/x-python",
   "name": "python",
   "nbconvert_exporter": "python",
   "pygments_lexer": "ipython3",
   "version": "3.7.7"
  }
 },
 "nbformat": 4,
 "nbformat_minor": 4
}
