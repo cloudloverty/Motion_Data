{
 "cells": [
  {
   "cell_type": "code",
   "execution_count": 8,
   "metadata": {},
   "outputs": [
    {
     "name": "stdout",
     "output_type": "stream",
     "text": [
      "C:\\Users\\Doyeon\\Desktop\\notebook_data\\nyc_taxi\n"
     ]
    },
    {
     "data": {
      "text/html": [
       "<div>\n",
       "<style scoped>\n",
       "    .dataframe tbody tr th:only-of-type {\n",
       "        vertical-align: middle;\n",
       "    }\n",
       "\n",
       "    .dataframe tbody tr th {\n",
       "        vertical-align: top;\n",
       "    }\n",
       "\n",
       "    .dataframe thead th {\n",
       "        text-align: right;\n",
       "    }\n",
       "</style>\n",
       "<table border=\"1\" class=\"dataframe\">\n",
       "  <thead>\n",
       "    <tr style=\"text-align: right;\">\n",
       "      <th></th>\n",
       "      <th>medallion</th>\n",
       "      <th>hack_license</th>\n",
       "      <th>vendor_id</th>\n",
       "      <th>rate_code</th>\n",
       "      <th>store_and_fwd_flag</th>\n",
       "      <th>pickup_datetime</th>\n",
       "      <th>dropoff_datetime</th>\n",
       "      <th>passenger_count</th>\n",
       "      <th>trip_time_in_secs</th>\n",
       "      <th>trip_distance</th>\n",
       "      <th>pickup_longitude</th>\n",
       "      <th>pickup_latitude</th>\n",
       "      <th>dropoff_longitude</th>\n",
       "      <th>dropoff_latitude</th>\n",
       "      <th>newCol</th>\n",
       "    </tr>\n",
       "  </thead>\n",
       "  <tbody>\n",
       "    <tr>\n",
       "      <th>0</th>\n",
       "      <td>76942C3205E17D7E7FE5A9F709D16434</td>\n",
       "      <td>25BA06A87905667AA1FE5990E33F0E2E</td>\n",
       "      <td>VTS</td>\n",
       "      <td>1</td>\n",
       "      <td>NaN</td>\n",
       "      <td>2013-01-01 00:00:00</td>\n",
       "      <td>2013-01-01 00:05:00</td>\n",
       "      <td>3</td>\n",
       "      <td>300</td>\n",
       "      <td>0.61</td>\n",
       "      <td>-73.955925</td>\n",
       "      <td>40.781887</td>\n",
       "      <td>-73.963181</td>\n",
       "      <td>40.777832</td>\n",
       "      <td>(2013-01-01 00:00:00, 2013-01-01 00:05:00, 3)</td>\n",
       "    </tr>\n",
       "    <tr>\n",
       "      <th>1</th>\n",
       "      <td>517C6B330DBB3F055D007B07512628B3</td>\n",
       "      <td>2C19FBEE1A6E05612EFE4C958C14BC7F</td>\n",
       "      <td>VTS</td>\n",
       "      <td>1</td>\n",
       "      <td>NaN</td>\n",
       "      <td>2013-01-01 00:05:00</td>\n",
       "      <td>2013-01-01 00:21:00</td>\n",
       "      <td>1</td>\n",
       "      <td>960</td>\n",
       "      <td>3.28</td>\n",
       "      <td>-74.005501</td>\n",
       "      <td>40.745735</td>\n",
       "      <td>-73.964943</td>\n",
       "      <td>40.755722</td>\n",
       "      <td>(2013-01-01 00:05:00, 2013-01-01 00:21:00, 1)</td>\n",
       "    </tr>\n",
       "    <tr>\n",
       "      <th>2</th>\n",
       "      <td>ED15611F168E41B33619C83D900FE266</td>\n",
       "      <td>754AEBD7C80DA17BA1D81D89FB6F4D1D</td>\n",
       "      <td>CMT</td>\n",
       "      <td>1</td>\n",
       "      <td>N</td>\n",
       "      <td>2013-01-01 00:05:52</td>\n",
       "      <td>2013-01-01 00:12:18</td>\n",
       "      <td>1</td>\n",
       "      <td>386</td>\n",
       "      <td>1.50</td>\n",
       "      <td>-73.969955</td>\n",
       "      <td>40.799770</td>\n",
       "      <td>-73.954567</td>\n",
       "      <td>40.787392</td>\n",
       "      <td>(2013-01-01 00:05:52, 2013-01-01 00:12:18, 1)</td>\n",
       "    </tr>\n",
       "    <tr>\n",
       "      <th>3</th>\n",
       "      <td>B33E704CC189E80C9671230C16527BBC</td>\n",
       "      <td>6789C77E1CBDC850C450D72204702976</td>\n",
       "      <td>VTS</td>\n",
       "      <td>1</td>\n",
       "      <td>NaN</td>\n",
       "      <td>2013-01-01 00:06:00</td>\n",
       "      <td>2013-01-01 00:06:00</td>\n",
       "      <td>6</td>\n",
       "      <td>0</td>\n",
       "      <td>0.00</td>\n",
       "      <td>-73.991432</td>\n",
       "      <td>40.755081</td>\n",
       "      <td>-73.991417</td>\n",
       "      <td>40.755085</td>\n",
       "      <td>(2013-01-01 00:06:00, 2013-01-01 00:06:00, 6)</td>\n",
       "    </tr>\n",
       "    <tr>\n",
       "      <th>4</th>\n",
       "      <td>BD5CC6A22D05EB2D5C8235526A2A4276</td>\n",
       "      <td>5E8F2C93B5220A922699FEBAFC2F7A54</td>\n",
       "      <td>VTS</td>\n",
       "      <td>1</td>\n",
       "      <td>NaN</td>\n",
       "      <td>2013-01-01 00:06:00</td>\n",
       "      <td>2013-01-01 00:12:00</td>\n",
       "      <td>2</td>\n",
       "      <td>360</td>\n",
       "      <td>1.31</td>\n",
       "      <td>-73.966225</td>\n",
       "      <td>40.773716</td>\n",
       "      <td>-73.955399</td>\n",
       "      <td>40.782597</td>\n",
       "      <td>(2013-01-01 00:06:00, 2013-01-01 00:12:00, 2)</td>\n",
       "    </tr>\n",
       "    <tr>\n",
       "      <th>5</th>\n",
       "      <td>61E558C4FCB0BCB8562FC37B06B97FFE</td>\n",
       "      <td>76DC5E351A0E646679BCA84B18B37B9A</td>\n",
       "      <td>VTS</td>\n",
       "      <td>1</td>\n",
       "      <td>NaN</td>\n",
       "      <td>2013-01-01 00:07:00</td>\n",
       "      <td>2013-01-01 00:34:00</td>\n",
       "      <td>1</td>\n",
       "      <td>1620</td>\n",
       "      <td>5.81</td>\n",
       "      <td>-73.955238</td>\n",
       "      <td>40.768978</td>\n",
       "      <td>-73.994064</td>\n",
       "      <td>40.720299</td>\n",
       "      <td>(2013-01-01 00:07:00, 2013-01-01 00:34:00, 1)</td>\n",
       "    </tr>\n",
       "    <tr>\n",
       "      <th>6</th>\n",
       "      <td>36EDC01D57A6489E2DEE50734ECB327D</td>\n",
       "      <td>35E93075DA51FFDEFA6B3FA0C49A0C70</td>\n",
       "      <td>VTS</td>\n",
       "      <td>1</td>\n",
       "      <td>NaN</td>\n",
       "      <td>2013-01-01 00:08:00</td>\n",
       "      <td>2013-01-01 00:15:00</td>\n",
       "      <td>5</td>\n",
       "      <td>420</td>\n",
       "      <td>1.25</td>\n",
       "      <td>-73.985580</td>\n",
       "      <td>40.752197</td>\n",
       "      <td>-73.988777</td>\n",
       "      <td>40.737244</td>\n",
       "      <td>(2013-01-01 00:08:00, 2013-01-01 00:15:00, 5)</td>\n",
       "    </tr>\n",
       "    <tr>\n",
       "      <th>7</th>\n",
       "      <td>131162C7685521FA81608D3C42E4EF29</td>\n",
       "      <td>A1C3B89CD387ABD20F337A2DA15F88D7</td>\n",
       "      <td>CMT</td>\n",
       "      <td>1</td>\n",
       "      <td>N</td>\n",
       "      <td>2013-01-01 00:08:38</td>\n",
       "      <td>2013-01-01 00:18:20</td>\n",
       "      <td>2</td>\n",
       "      <td>581</td>\n",
       "      <td>1.80</td>\n",
       "      <td>-73.999413</td>\n",
       "      <td>40.730137</td>\n",
       "      <td>-73.983047</td>\n",
       "      <td>40.741844</td>\n",
       "      <td>(2013-01-01 00:08:38, 2013-01-01 00:18:20, 2)</td>\n",
       "    </tr>\n",
       "    <tr>\n",
       "      <th>8</th>\n",
       "      <td>22467390B5CCC51FD1B12659F6084B2F</td>\n",
       "      <td>12EED5AC20F50C538A3C9F3270A63EFA</td>\n",
       "      <td>VTS</td>\n",
       "      <td>1</td>\n",
       "      <td>NaN</td>\n",
       "      <td>2013-01-01 00:09:00</td>\n",
       "      <td>2013-01-01 00:20:00</td>\n",
       "      <td>1</td>\n",
       "      <td>660</td>\n",
       "      <td>1.79</td>\n",
       "      <td>-73.992180</td>\n",
       "      <td>40.738644</td>\n",
       "      <td>-73.973099</td>\n",
       "      <td>40.749355</td>\n",
       "      <td>(2013-01-01 00:09:00, 2013-01-01 00:20:00, 1)</td>\n",
       "    </tr>\n",
       "    <tr>\n",
       "      <th>9</th>\n",
       "      <td>939D5E5E9555C02F0DB5B4B4F2D6BCBC</td>\n",
       "      <td>0413E28D43093EFA4044A8D30B84DAF6</td>\n",
       "      <td>CMT</td>\n",
       "      <td>1</td>\n",
       "      <td>N</td>\n",
       "      <td>2013-01-01 00:09:32</td>\n",
       "      <td>2013-01-01 00:19:58</td>\n",
       "      <td>1</td>\n",
       "      <td>625</td>\n",
       "      <td>1.70</td>\n",
       "      <td>-74.006554</td>\n",
       "      <td>40.740540</td>\n",
       "      <td>-73.980469</td>\n",
       "      <td>40.730408</td>\n",
       "      <td>(2013-01-01 00:09:32, 2013-01-01 00:19:58, 1)</td>\n",
       "    </tr>\n",
       "  </tbody>\n",
       "</table>\n",
       "</div>"
      ],
      "text/plain": [
       "                          medallion                      hack_license  \\\n",
       "0  76942C3205E17D7E7FE5A9F709D16434  25BA06A87905667AA1FE5990E33F0E2E   \n",
       "1  517C6B330DBB3F055D007B07512628B3  2C19FBEE1A6E05612EFE4C958C14BC7F   \n",
       "2  ED15611F168E41B33619C83D900FE266  754AEBD7C80DA17BA1D81D89FB6F4D1D   \n",
       "3  B33E704CC189E80C9671230C16527BBC  6789C77E1CBDC850C450D72204702976   \n",
       "4  BD5CC6A22D05EB2D5C8235526A2A4276  5E8F2C93B5220A922699FEBAFC2F7A54   \n",
       "5  61E558C4FCB0BCB8562FC37B06B97FFE  76DC5E351A0E646679BCA84B18B37B9A   \n",
       "6  36EDC01D57A6489E2DEE50734ECB327D  35E93075DA51FFDEFA6B3FA0C49A0C70   \n",
       "7  131162C7685521FA81608D3C42E4EF29  A1C3B89CD387ABD20F337A2DA15F88D7   \n",
       "8  22467390B5CCC51FD1B12659F6084B2F  12EED5AC20F50C538A3C9F3270A63EFA   \n",
       "9  939D5E5E9555C02F0DB5B4B4F2D6BCBC  0413E28D43093EFA4044A8D30B84DAF6   \n",
       "\n",
       "  vendor_id  rate_code store_and_fwd_flag     pickup_datetime  \\\n",
       "0       VTS          1                NaN 2013-01-01 00:00:00   \n",
       "1       VTS          1                NaN 2013-01-01 00:05:00   \n",
       "2       CMT          1                  N 2013-01-01 00:05:52   \n",
       "3       VTS          1                NaN 2013-01-01 00:06:00   \n",
       "4       VTS          1                NaN 2013-01-01 00:06:00   \n",
       "5       VTS          1                NaN 2013-01-01 00:07:00   \n",
       "6       VTS          1                NaN 2013-01-01 00:08:00   \n",
       "7       CMT          1                  N 2013-01-01 00:08:38   \n",
       "8       VTS          1                NaN 2013-01-01 00:09:00   \n",
       "9       CMT          1                  N 2013-01-01 00:09:32   \n",
       "\n",
       "     dropoff_datetime  passenger_count  trip_time_in_secs  trip_distance  \\\n",
       "0 2013-01-01 00:05:00                3                300           0.61   \n",
       "1 2013-01-01 00:21:00                1                960           3.28   \n",
       "2 2013-01-01 00:12:18                1                386           1.50   \n",
       "3 2013-01-01 00:06:00                6                  0           0.00   \n",
       "4 2013-01-01 00:12:00                2                360           1.31   \n",
       "5 2013-01-01 00:34:00                1               1620           5.81   \n",
       "6 2013-01-01 00:15:00                5                420           1.25   \n",
       "7 2013-01-01 00:18:20                2                581           1.80   \n",
       "8 2013-01-01 00:20:00                1                660           1.79   \n",
       "9 2013-01-01 00:19:58                1                625           1.70   \n",
       "\n",
       "   pickup_longitude  pickup_latitude  dropoff_longitude  dropoff_latitude  \\\n",
       "0        -73.955925        40.781887         -73.963181         40.777832   \n",
       "1        -74.005501        40.745735         -73.964943         40.755722   \n",
       "2        -73.969955        40.799770         -73.954567         40.787392   \n",
       "3        -73.991432        40.755081         -73.991417         40.755085   \n",
       "4        -73.966225        40.773716         -73.955399         40.782597   \n",
       "5        -73.955238        40.768978         -73.994064         40.720299   \n",
       "6        -73.985580        40.752197         -73.988777         40.737244   \n",
       "7        -73.999413        40.730137         -73.983047         40.741844   \n",
       "8        -73.992180        40.738644         -73.973099         40.749355   \n",
       "9        -74.006554        40.740540         -73.980469         40.730408   \n",
       "\n",
       "                                          newCol  \n",
       "0  (2013-01-01 00:00:00, 2013-01-01 00:05:00, 3)  \n",
       "1  (2013-01-01 00:05:00, 2013-01-01 00:21:00, 1)  \n",
       "2  (2013-01-01 00:05:52, 2013-01-01 00:12:18, 1)  \n",
       "3  (2013-01-01 00:06:00, 2013-01-01 00:06:00, 6)  \n",
       "4  (2013-01-01 00:06:00, 2013-01-01 00:12:00, 2)  \n",
       "5  (2013-01-01 00:07:00, 2013-01-01 00:34:00, 1)  \n",
       "6  (2013-01-01 00:08:00, 2013-01-01 00:15:00, 5)  \n",
       "7  (2013-01-01 00:08:38, 2013-01-01 00:18:20, 2)  \n",
       "8  (2013-01-01 00:09:00, 2013-01-01 00:20:00, 1)  \n",
       "9  (2013-01-01 00:09:32, 2013-01-01 00:19:58, 1)  "
      ]
     },
     "execution_count": 8,
     "metadata": {},
     "output_type": "execute_result"
    }
   ],
   "source": [
    "import numpy as np\n",
    "import pandas as pd\n",
    "import matplotlib.pyplot as plt\n",
    "import seaborn as sns\n",
    "%matplotlib inline\n",
    "%cd ~/Desktop/notebook_data/nyc_taxi\n",
    "\n",
    "data_filename = 'data/nyc_data.csv'\n",
    "fare_filename = 'data/nyc_fare.csv'\n",
    "\n",
    "data = pd.read_csv(data_filename, parse_dates=['pickup_datetime', 'dropoff_datetime'])\n",
    "fare = pd.read_csv(fare_filename, parse_dates=['pickup_datetime'])\n",
    "\n",
    "pickup_list = data['pickup_datetime']\n",
    "dropoff_list = data['dropoff_datetime']\n",
    "count_list = data['passenger_count']\n",
    "pickDrop_list = list(zip(pickup_list, dropoff_list, count_list))\n",
    "data['newCol'] = pickDrop_list\n",
    "cols = data.columns.to_\n",
    "data.head(3)"
   ]
  },
  {
   "cell_type": "code",
   "execution_count": 13,
   "metadata": {},
   "outputs": [
    {
     "data": {
      "text/plain": [
       "0        -73.955925\n",
       "1        -74.005501\n",
       "2        -73.969955\n",
       "3        -73.991432\n",
       "4        -73.966225\n",
       "            ...    \n",
       "846940   -73.992058\n",
       "846941   -73.994949\n",
       "846942   -73.993492\n",
       "846943   -73.978477\n",
       "846944   -73.987206\n",
       "Name: pickup_longitude, Length: 846945, dtype: float64"
      ]
     },
     "execution_count": 13,
     "metadata": {},
     "output_type": "execute_result"
    }
   ],
   "source": [
    "p_lng = data.pickup_longitude\n",
    "p_lat = data.pickup_latitude\n",
    "d_lng = data.dropoff_longitude\n",
    "d_lat = data.dropoff_latitude\n",
    "\n",
    "p_lng"
   ]
  },
  {
   "cell_type": "code",
   "execution_count": 14,
   "metadata": {},
   "outputs": [
    {
     "data": {
      "text/plain": [
       "(0         29.456688\n",
       " 1         29.442916\n",
       " 2         29.452790\n",
       " 3         29.446824\n",
       " 4         29.453826\n",
       "             ...    \n",
       " 846940    29.446651\n",
       " 846941    29.445847\n",
       " 846942    29.446252\n",
       " 846943    29.450423\n",
       " 846944    29.447998\n",
       " Name: pickup_longitude, Length: 846945, dtype: float64,\n",
       " 0        -37.572749\n",
       " 1        -37.586007\n",
       " 2        -37.566187\n",
       " 3        -37.582580\n",
       " 4        -37.575746\n",
       "             ...    \n",
       " 846940   -37.584397\n",
       " 846941   -37.577440\n",
       " 846942   -37.592015\n",
       " 846943   -37.576029\n",
       " 846944   -37.584235\n",
       " Name: pickup_latitude, Length: 846945, dtype: float64)"
      ]
     },
     "execution_count": 14,
     "metadata": {},
     "output_type": "execute_result"
    }
   ],
   "source": [
    "def lat_lng_to_pixels(lat, lng):\n",
    "    lat_rad = lat * np.pi / 180.0\n",
    "    lat_rad = np.log(np.tan((lat_rad + np.pi / 2.0) / 2.0))\n",
    "    x = 100 * (lng + 180.0) / 360.0\n",
    "    y = 100 * (lat_rad -np.pi) / (2.0 * np.pi)\n",
    "    return (x, y)\n",
    "\n",
    "px, py = lat_lng_to_pixels(p_lat, p_lng)\n",
    "px, py"
   ]
  },
  {
   "cell_type": "code",
   "execution_count": 15,
   "metadata": {},
   "outputs": [
    {
     "data": {
      "text/plain": [
       "<matplotlib.collections.PathCollection at 0x80a8310>"
      ]
     },
     "execution_count": 15,
     "metadata": {},
     "output_type": "execute_result"
    },
    {
     "data": {
      "image/png": "[encoded data removed]",
      "text/plain": [
       "<Figure size 432x288 with 1 Axes>"
      ]
     },
     "metadata": {
      "needs_background": "light"
     },
     "output_type": "display_data"
    }
   ],
   "source": [
    "plt.scatter(px, py)"
   ]
  },
  {
   "cell_type": "code",
   "execution_count": 16,
   "metadata": {},
   "outputs": [
    {
     "data": {
      "text/plain": [
       "(29.4, 29.55, -37.63, -37.54)"
      ]
     },
     "execution_count": 16,
     "metadata": {},
     "output_type": "execute_result"
    },
    {
     "data": {
      "image/png": "[encoded data removed]",
      "text/plain": [
       "<Figure size 576x432 with 1 Axes>"
      ]
     },
     "metadata": {
      "needs_background": "light"
     },
     "output_type": "display_data"
    }
   ],
   "source": [
    "plt.figure(figsize=(8, 6))\n",
    "plt.scatter(px, py, s=.1, alpha=.03)\n",
    "plt.axis('equal')\n",
    "plt.xlim(29.40, 29.55)\n",
    "plt.ylim(-37.63, -37.54)\n",
    "plt.axis('off')"
   ]
  },
  {
   "cell_type": "code",
   "execution_count": 23,
   "metadata": {},
   "outputs": [
    {
     "data": {
      "text/plain": [
       "<matplotlib.axes._subplots.AxesSubplot at 0x233265d0>"
      ]
     },
     "execution_count": 23,
     "metadata": {},
     "output_type": "execute_result"
    },
    {
     "data": {
      "image/png": "[encoded data removed]",
      "text/plain": [
       "<Figure size 432x288 with 1 Axes>"
      ]
     },
     "metadata": {
      "needs_background": "light"
     },
     "output_type": "display_data"
    }
   ],
   "source": [
    "data.trip_distance.hist(bins=np.linspace(0, 20, 20))"
   ]
  },
  {
   "cell_type": "code",
   "execution_count": null,
   "metadata": {},
   "outputs": [],
   "source": []
  },
  {
   "cell_type": "code",
   "execution_count": null,
   "metadata": {},
   "outputs": [],
   "source": []
  }
 ],
 "metadata": {
  "kernelspec": {
   "display_name": "Python 3",
   "language": "python",
   "name": "python3"
  },
  "language_info": {
   "codemirror_mode": {
    "name": "ipython",
    "version": 3
   },
   "file_extension": ".py",
   "mimetype": "text/x-python",
   "name": "python",
   "nbconvert_exporter": "python",
   "pygments_lexer": "ipython3",
   "version": "3.7.7"
  }
 },
 "nbformat": 4,
 "nbformat_minor": 4
}
